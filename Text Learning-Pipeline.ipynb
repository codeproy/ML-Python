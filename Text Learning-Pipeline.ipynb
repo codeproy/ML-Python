{
 "cells": [
  {
   "cell_type": "code",
   "execution_count": 42,
   "metadata": {
    "collapsed": true
   },
   "outputs": [],
   "source": [
    "# The objective of the this Test Case Predictor BOTS is to trigger Test Case based on source code changes. \n",
    "# The code is divided into parts\n",
    "# Machine Learning - First Part\n",
    "# This learns a given set of mapped 'source to test case / scenario' dataset \n",
    "# Once the training the set is learned, the KNN machine learning algorithm will implement AI to map  \n",
    "# source code to any new Test Cases written\n",
    "# \n",
    "# Dev Ops - Second Part\n",
    "# Scan the input source code changes to find the test case that needs to be executed\n",
    "\n",
    "# Imports machine learning and matrix handling python libraries\n",
    "import os  \n",
    "import numpy as np\n",
    "import pandas as pd\n",
    "import matplotlib.pyplot as plt\n",
    "from sklearn.neighbors import KNeighborsClassifier\n",
    "from sklearn.feature_extraction.text import TfidfTransformer\n",
    "from sklearn.pipeline import Pipeline"
   ]
  },
  {
   "cell_type": "code",
   "execution_count": 43,
   "metadata": {
    "collapsed": true
   },
   "outputs": [],
   "source": [
    "# Reads the ';' separted training(initial) file into a Panda Dataframe\n",
    "os.chdir(r'E:\\MachineLearning\\Python\\Text Learning')\n",
    "path = os.getcwd() + r'\\ex1data2.txt'\n",
    "data = pd.read_csv(path, header=None,sep = ';', names=['Function', 'TC']) "
   ]
  },
  {
   "cell_type": "code",
   "execution_count": 44,
   "metadata": {},
   "outputs": [
    {
     "name": "stdout",
     "output_type": "stream",
     "text": [
      "  Function                              TC\n",
      "0  Contact      Verify Creation of Contact\n",
      "1  Contact      Verify Updating of Contact\n",
      "2  Contact      Verify Deletion of Contact\n",
      "3  Contact  Change the Account of Contacts\n",
      "4  Contact            Verify Contact Lists\n"
     ]
    }
   ],
   "source": [
    "# prints the first five of dataframe to show that how data got loaded\n",
    "print(data.head())"
   ]
  },
  {
   "cell_type": "code",
   "execution_count": 45,
   "metadata": {
    "collapsed": true
   },
   "outputs": [],
   "source": [
    "# Transform the dataframe into labels & features\n",
    "X = data.Function.tolist()\n",
    "y = data.TC.tolist()"
   ]
  },
  {
   "cell_type": "code",
   "execution_count": 46,
   "metadata": {},
   "outputs": [
    {
     "name": "stdout",
     "output_type": "stream",
     "text": [
      "[2 2 2 2 2 2 1 2 3 3 3 3 3 3]\n"
     ]
    }
   ],
   "source": [
    "# Instantiate count vectorizer for extracting featues\n",
    "from sklearn.feature_extraction.text import CountVectorizer\n",
    "vect1 = CountVectorizer()\n",
    "simple_train_dtX = vect1.fit_transform(X)\n",
    "vect1.fit(X)\n",
    "opfeat = vect1.get_feature_names()\n",
    "dataop = simple_train_dtX.toarray()\n",
    "rows = dataop.shape[0]\n",
    "cols = dataop.shape[1]\n",
    "op = np.zeros((rows,), dtype=np.int64)\n",
    "for i in range(rows):\n",
    "    s = 0\n",
    "    for j in range(cols):\n",
    "        s = s + dataop[i,j] * (j + 1)\n",
    "    op[i] =op[i] + s\n",
    "print(op)\n",
    "\n",
    "vect = CountVectorizer()\n",
    "tfidf_transformer = TfidfTransformer()\n"
   ]
  },
  {
   "cell_type": "code",
   "execution_count": 47,
   "metadata": {
    "collapsed": true
   },
   "outputs": [],
   "source": [
    "# Fit the feature vector\n",
    "#vect.(y)\n",
    "simple_train_dty = tfidf_transformer.fit_transform(vect.fit_transform(y))"
   ]
  },
  {
   "cell_type": "code",
   "execution_count": 48,
   "metadata": {},
   "outputs": [
    {
     "data": {
      "text/plain": [
       "<14x27 sparse matrix of type '<class 'numpy.float64'>'\n",
       "\twith 55 stored elements in Compressed Sparse Row format>"
      ]
     },
     "execution_count": 48,
     "metadata": {},
     "output_type": "execute_result"
    }
   ],
   "source": [
    "simple_train_dty"
   ]
  },
  {
   "cell_type": "code",
   "execution_count": 49,
   "metadata": {
    "collapsed": true
   },
   "outputs": [],
   "source": [
    "datain = simple_train_dty.toarray()"
   ]
  },
  {
   "cell_type": "code",
   "execution_count": 50,
   "metadata": {
    "collapsed": true
   },
   "outputs": [],
   "source": [
    "# Converted text data into numbers\n",
    "#datain"
   ]
  },
  {
   "cell_type": "code",
   "execution_count": 51,
   "metadata": {},
   "outputs": [
    {
     "data": {
      "text/html": [
       "<div>\n",
       "<style>\n",
       "    .dataframe thead tr:only-child th {\n",
       "        text-align: right;\n",
       "    }\n",
       "\n",
       "    .dataframe thead th {\n",
       "        text-align: left;\n",
       "    }\n",
       "\n",
       "    .dataframe tbody tr th {\n",
       "        vertical-align: top;\n",
       "    }\n",
       "</style>\n",
       "<table border=\"1\" class=\"dataframe\">\n",
       "  <thead>\n",
       "    <tr style=\"text-align: right;\">\n",
       "      <th></th>\n",
       "      <th>account</th>\n",
       "      <th>activate</th>\n",
       "      <th>admin</th>\n",
       "      <th>and</th>\n",
       "      <th>change</th>\n",
       "      <th>contact</th>\n",
       "      <th>contacts</th>\n",
       "      <th>contract</th>\n",
       "      <th>core</th>\n",
       "      <th>creation</th>\n",
       "      <th>...</th>\n",
       "      <th>merge</th>\n",
       "      <th>of</th>\n",
       "      <th>run</th>\n",
       "      <th>search</th>\n",
       "      <th>stay</th>\n",
       "      <th>the</th>\n",
       "      <th>touch</th>\n",
       "      <th>update</th>\n",
       "      <th>updating</th>\n",
       "      <th>verify</th>\n",
       "    </tr>\n",
       "  </thead>\n",
       "  <tbody>\n",
       "    <tr>\n",
       "      <th>0</th>\n",
       "      <td>0.000000</td>\n",
       "      <td>0.000000</td>\n",
       "      <td>0.00000</td>\n",
       "      <td>0.000000</td>\n",
       "      <td>0.000000</td>\n",
       "      <td>0.533543</td>\n",
       "      <td>0.000000</td>\n",
       "      <td>0.000000</td>\n",
       "      <td>0.00000</td>\n",
       "      <td>0.663413</td>\n",
       "      <td>...</td>\n",
       "      <td>0.00000</td>\n",
       "      <td>0.357320</td>\n",
       "      <td>0.00000</td>\n",
       "      <td>0.000000</td>\n",
       "      <td>0.00000</td>\n",
       "      <td>0.000000</td>\n",
       "      <td>0.00000</td>\n",
       "      <td>0.00000</td>\n",
       "      <td>0.000000</td>\n",
       "      <td>0.384106</td>\n",
       "    </tr>\n",
       "    <tr>\n",
       "      <th>1</th>\n",
       "      <td>0.000000</td>\n",
       "      <td>0.000000</td>\n",
       "      <td>0.00000</td>\n",
       "      <td>0.000000</td>\n",
       "      <td>0.000000</td>\n",
       "      <td>0.533543</td>\n",
       "      <td>0.000000</td>\n",
       "      <td>0.000000</td>\n",
       "      <td>0.00000</td>\n",
       "      <td>0.000000</td>\n",
       "      <td>...</td>\n",
       "      <td>0.00000</td>\n",
       "      <td>0.357320</td>\n",
       "      <td>0.00000</td>\n",
       "      <td>0.000000</td>\n",
       "      <td>0.00000</td>\n",
       "      <td>0.000000</td>\n",
       "      <td>0.00000</td>\n",
       "      <td>0.00000</td>\n",
       "      <td>0.663413</td>\n",
       "      <td>0.384106</td>\n",
       "    </tr>\n",
       "    <tr>\n",
       "      <th>2</th>\n",
       "      <td>0.000000</td>\n",
       "      <td>0.000000</td>\n",
       "      <td>0.00000</td>\n",
       "      <td>0.000000</td>\n",
       "      <td>0.000000</td>\n",
       "      <td>0.533543</td>\n",
       "      <td>0.000000</td>\n",
       "      <td>0.000000</td>\n",
       "      <td>0.00000</td>\n",
       "      <td>0.000000</td>\n",
       "      <td>...</td>\n",
       "      <td>0.00000</td>\n",
       "      <td>0.357320</td>\n",
       "      <td>0.00000</td>\n",
       "      <td>0.000000</td>\n",
       "      <td>0.00000</td>\n",
       "      <td>0.000000</td>\n",
       "      <td>0.00000</td>\n",
       "      <td>0.00000</td>\n",
       "      <td>0.000000</td>\n",
       "      <td>0.384106</td>\n",
       "    </tr>\n",
       "    <tr>\n",
       "      <th>3</th>\n",
       "      <td>0.518787</td>\n",
       "      <td>0.000000</td>\n",
       "      <td>0.00000</td>\n",
       "      <td>0.000000</td>\n",
       "      <td>0.518787</td>\n",
       "      <td>0.000000</td>\n",
       "      <td>0.449017</td>\n",
       "      <td>0.000000</td>\n",
       "      <td>0.00000</td>\n",
       "      <td>0.000000</td>\n",
       "      <td>...</td>\n",
       "      <td>0.00000</td>\n",
       "      <td>0.241844</td>\n",
       "      <td>0.00000</td>\n",
       "      <td>0.000000</td>\n",
       "      <td>0.00000</td>\n",
       "      <td>0.449017</td>\n",
       "      <td>0.00000</td>\n",
       "      <td>0.00000</td>\n",
       "      <td>0.000000</td>\n",
       "      <td>0.000000</td>\n",
       "    </tr>\n",
       "    <tr>\n",
       "      <th>4</th>\n",
       "      <td>0.000000</td>\n",
       "      <td>0.000000</td>\n",
       "      <td>0.00000</td>\n",
       "      <td>0.000000</td>\n",
       "      <td>0.000000</td>\n",
       "      <td>0.528358</td>\n",
       "      <td>0.000000</td>\n",
       "      <td>0.000000</td>\n",
       "      <td>0.00000</td>\n",
       "      <td>0.000000</td>\n",
       "      <td>...</td>\n",
       "      <td>0.00000</td>\n",
       "      <td>0.000000</td>\n",
       "      <td>0.00000</td>\n",
       "      <td>0.000000</td>\n",
       "      <td>0.00000</td>\n",
       "      <td>0.000000</td>\n",
       "      <td>0.00000</td>\n",
       "      <td>0.00000</td>\n",
       "      <td>0.000000</td>\n",
       "      <td>0.380374</td>\n",
       "    </tr>\n",
       "    <tr>\n",
       "      <th>5</th>\n",
       "      <td>0.000000</td>\n",
       "      <td>0.000000</td>\n",
       "      <td>0.00000</td>\n",
       "      <td>0.000000</td>\n",
       "      <td>0.000000</td>\n",
       "      <td>0.000000</td>\n",
       "      <td>0.522008</td>\n",
       "      <td>0.000000</td>\n",
       "      <td>0.00000</td>\n",
       "      <td>0.000000</td>\n",
       "      <td>...</td>\n",
       "      <td>0.60312</td>\n",
       "      <td>0.000000</td>\n",
       "      <td>0.00000</td>\n",
       "      <td>0.000000</td>\n",
       "      <td>0.00000</td>\n",
       "      <td>0.000000</td>\n",
       "      <td>0.00000</td>\n",
       "      <td>0.00000</td>\n",
       "      <td>0.000000</td>\n",
       "      <td>0.000000</td>\n",
       "    </tr>\n",
       "    <tr>\n",
       "      <th>6</th>\n",
       "      <td>0.000000</td>\n",
       "      <td>0.000000</td>\n",
       "      <td>0.57735</td>\n",
       "      <td>0.000000</td>\n",
       "      <td>0.000000</td>\n",
       "      <td>0.000000</td>\n",
       "      <td>0.000000</td>\n",
       "      <td>0.000000</td>\n",
       "      <td>0.57735</td>\n",
       "      <td>0.000000</td>\n",
       "      <td>...</td>\n",
       "      <td>0.00000</td>\n",
       "      <td>0.000000</td>\n",
       "      <td>0.57735</td>\n",
       "      <td>0.000000</td>\n",
       "      <td>0.00000</td>\n",
       "      <td>0.000000</td>\n",
       "      <td>0.00000</td>\n",
       "      <td>0.00000</td>\n",
       "      <td>0.000000</td>\n",
       "      <td>0.000000</td>\n",
       "    </tr>\n",
       "    <tr>\n",
       "      <th>7</th>\n",
       "      <td>0.000000</td>\n",
       "      <td>0.000000</td>\n",
       "      <td>0.00000</td>\n",
       "      <td>0.000000</td>\n",
       "      <td>0.000000</td>\n",
       "      <td>0.000000</td>\n",
       "      <td>0.000000</td>\n",
       "      <td>0.000000</td>\n",
       "      <td>0.00000</td>\n",
       "      <td>0.000000</td>\n",
       "      <td>...</td>\n",
       "      <td>0.00000</td>\n",
       "      <td>0.000000</td>\n",
       "      <td>0.00000</td>\n",
       "      <td>0.000000</td>\n",
       "      <td>0.40824</td>\n",
       "      <td>0.353337</td>\n",
       "      <td>0.40824</td>\n",
       "      <td>0.40824</td>\n",
       "      <td>0.000000</td>\n",
       "      <td>0.204577</td>\n",
       "    </tr>\n",
       "    <tr>\n",
       "      <th>8</th>\n",
       "      <td>0.000000</td>\n",
       "      <td>0.000000</td>\n",
       "      <td>0.00000</td>\n",
       "      <td>0.000000</td>\n",
       "      <td>0.000000</td>\n",
       "      <td>0.000000</td>\n",
       "      <td>0.000000</td>\n",
       "      <td>0.468081</td>\n",
       "      <td>0.00000</td>\n",
       "      <td>0.693151</td>\n",
       "      <td>...</td>\n",
       "      <td>0.00000</td>\n",
       "      <td>0.373337</td>\n",
       "      <td>0.00000</td>\n",
       "      <td>0.000000</td>\n",
       "      <td>0.00000</td>\n",
       "      <td>0.000000</td>\n",
       "      <td>0.00000</td>\n",
       "      <td>0.00000</td>\n",
       "      <td>0.000000</td>\n",
       "      <td>0.401324</td>\n",
       "    </tr>\n",
       "    <tr>\n",
       "      <th>9</th>\n",
       "      <td>0.000000</td>\n",
       "      <td>0.000000</td>\n",
       "      <td>0.00000</td>\n",
       "      <td>0.000000</td>\n",
       "      <td>0.000000</td>\n",
       "      <td>0.000000</td>\n",
       "      <td>0.000000</td>\n",
       "      <td>0.468081</td>\n",
       "      <td>0.00000</td>\n",
       "      <td>0.000000</td>\n",
       "      <td>...</td>\n",
       "      <td>0.00000</td>\n",
       "      <td>0.373337</td>\n",
       "      <td>0.00000</td>\n",
       "      <td>0.000000</td>\n",
       "      <td>0.00000</td>\n",
       "      <td>0.000000</td>\n",
       "      <td>0.00000</td>\n",
       "      <td>0.00000</td>\n",
       "      <td>0.693151</td>\n",
       "      <td>0.401324</td>\n",
       "    </tr>\n",
       "    <tr>\n",
       "      <th>10</th>\n",
       "      <td>0.000000</td>\n",
       "      <td>0.000000</td>\n",
       "      <td>0.00000</td>\n",
       "      <td>0.000000</td>\n",
       "      <td>0.000000</td>\n",
       "      <td>0.000000</td>\n",
       "      <td>0.000000</td>\n",
       "      <td>0.468081</td>\n",
       "      <td>0.00000</td>\n",
       "      <td>0.000000</td>\n",
       "      <td>...</td>\n",
       "      <td>0.00000</td>\n",
       "      <td>0.373337</td>\n",
       "      <td>0.00000</td>\n",
       "      <td>0.000000</td>\n",
       "      <td>0.00000</td>\n",
       "      <td>0.000000</td>\n",
       "      <td>0.00000</td>\n",
       "      <td>0.00000</td>\n",
       "      <td>0.000000</td>\n",
       "      <td>0.401324</td>\n",
       "    </tr>\n",
       "    <tr>\n",
       "      <th>11</th>\n",
       "      <td>0.000000</td>\n",
       "      <td>0.000000</td>\n",
       "      <td>0.00000</td>\n",
       "      <td>0.530079</td>\n",
       "      <td>0.000000</td>\n",
       "      <td>0.000000</td>\n",
       "      <td>0.000000</td>\n",
       "      <td>0.309819</td>\n",
       "      <td>0.00000</td>\n",
       "      <td>0.000000</td>\n",
       "      <td>...</td>\n",
       "      <td>0.00000</td>\n",
       "      <td>0.247108</td>\n",
       "      <td>0.00000</td>\n",
       "      <td>0.000000</td>\n",
       "      <td>0.00000</td>\n",
       "      <td>0.000000</td>\n",
       "      <td>0.00000</td>\n",
       "      <td>0.00000</td>\n",
       "      <td>0.000000</td>\n",
       "      <td>0.000000</td>\n",
       "    </tr>\n",
       "    <tr>\n",
       "      <th>12</th>\n",
       "      <td>0.000000</td>\n",
       "      <td>0.863349</td>\n",
       "      <td>0.00000</td>\n",
       "      <td>0.000000</td>\n",
       "      <td>0.000000</td>\n",
       "      <td>0.000000</td>\n",
       "      <td>0.000000</td>\n",
       "      <td>0.504607</td>\n",
       "      <td>0.00000</td>\n",
       "      <td>0.000000</td>\n",
       "      <td>...</td>\n",
       "      <td>0.00000</td>\n",
       "      <td>0.000000</td>\n",
       "      <td>0.00000</td>\n",
       "      <td>0.000000</td>\n",
       "      <td>0.00000</td>\n",
       "      <td>0.000000</td>\n",
       "      <td>0.00000</td>\n",
       "      <td>0.00000</td>\n",
       "      <td>0.000000</td>\n",
       "      <td>0.000000</td>\n",
       "    </tr>\n",
       "    <tr>\n",
       "      <th>13</th>\n",
       "      <td>0.000000</td>\n",
       "      <td>0.000000</td>\n",
       "      <td>0.00000</td>\n",
       "      <td>0.000000</td>\n",
       "      <td>0.000000</td>\n",
       "      <td>0.000000</td>\n",
       "      <td>0.000000</td>\n",
       "      <td>0.468116</td>\n",
       "      <td>0.00000</td>\n",
       "      <td>0.000000</td>\n",
       "      <td>...</td>\n",
       "      <td>0.00000</td>\n",
       "      <td>0.373365</td>\n",
       "      <td>0.00000</td>\n",
       "      <td>0.800916</td>\n",
       "      <td>0.00000</td>\n",
       "      <td>0.000000</td>\n",
       "      <td>0.00000</td>\n",
       "      <td>0.00000</td>\n",
       "      <td>0.000000</td>\n",
       "      <td>0.000000</td>\n",
       "    </tr>\n",
       "  </tbody>\n",
       "</table>\n",
       "<p>14 rows × 27 columns</p>\n",
       "</div>"
      ],
      "text/plain": [
       "     account  activate    admin       and    change   contact  contacts  \\\n",
       "0   0.000000  0.000000  0.00000  0.000000  0.000000  0.533543  0.000000   \n",
       "1   0.000000  0.000000  0.00000  0.000000  0.000000  0.533543  0.000000   \n",
       "2   0.000000  0.000000  0.00000  0.000000  0.000000  0.533543  0.000000   \n",
       "3   0.518787  0.000000  0.00000  0.000000  0.518787  0.000000  0.449017   \n",
       "4   0.000000  0.000000  0.00000  0.000000  0.000000  0.528358  0.000000   \n",
       "5   0.000000  0.000000  0.00000  0.000000  0.000000  0.000000  0.522008   \n",
       "6   0.000000  0.000000  0.57735  0.000000  0.000000  0.000000  0.000000   \n",
       "7   0.000000  0.000000  0.00000  0.000000  0.000000  0.000000  0.000000   \n",
       "8   0.000000  0.000000  0.00000  0.000000  0.000000  0.000000  0.000000   \n",
       "9   0.000000  0.000000  0.00000  0.000000  0.000000  0.000000  0.000000   \n",
       "10  0.000000  0.000000  0.00000  0.000000  0.000000  0.000000  0.000000   \n",
       "11  0.000000  0.000000  0.00000  0.530079  0.000000  0.000000  0.000000   \n",
       "12  0.000000  0.863349  0.00000  0.000000  0.000000  0.000000  0.000000   \n",
       "13  0.000000  0.000000  0.00000  0.000000  0.000000  0.000000  0.000000   \n",
       "\n",
       "    contract     core  creation    ...       merge        of      run  \\\n",
       "0   0.000000  0.00000  0.663413    ...     0.00000  0.357320  0.00000   \n",
       "1   0.000000  0.00000  0.000000    ...     0.00000  0.357320  0.00000   \n",
       "2   0.000000  0.00000  0.000000    ...     0.00000  0.357320  0.00000   \n",
       "3   0.000000  0.00000  0.000000    ...     0.00000  0.241844  0.00000   \n",
       "4   0.000000  0.00000  0.000000    ...     0.00000  0.000000  0.00000   \n",
       "5   0.000000  0.00000  0.000000    ...     0.60312  0.000000  0.00000   \n",
       "6   0.000000  0.57735  0.000000    ...     0.00000  0.000000  0.57735   \n",
       "7   0.000000  0.00000  0.000000    ...     0.00000  0.000000  0.00000   \n",
       "8   0.468081  0.00000  0.693151    ...     0.00000  0.373337  0.00000   \n",
       "9   0.468081  0.00000  0.000000    ...     0.00000  0.373337  0.00000   \n",
       "10  0.468081  0.00000  0.000000    ...     0.00000  0.373337  0.00000   \n",
       "11  0.309819  0.00000  0.000000    ...     0.00000  0.247108  0.00000   \n",
       "12  0.504607  0.00000  0.000000    ...     0.00000  0.000000  0.00000   \n",
       "13  0.468116  0.00000  0.000000    ...     0.00000  0.373365  0.00000   \n",
       "\n",
       "      search     stay       the    touch   update  updating    verify  \n",
       "0   0.000000  0.00000  0.000000  0.00000  0.00000  0.000000  0.384106  \n",
       "1   0.000000  0.00000  0.000000  0.00000  0.00000  0.663413  0.384106  \n",
       "2   0.000000  0.00000  0.000000  0.00000  0.00000  0.000000  0.384106  \n",
       "3   0.000000  0.00000  0.449017  0.00000  0.00000  0.000000  0.000000  \n",
       "4   0.000000  0.00000  0.000000  0.00000  0.00000  0.000000  0.380374  \n",
       "5   0.000000  0.00000  0.000000  0.00000  0.00000  0.000000  0.000000  \n",
       "6   0.000000  0.00000  0.000000  0.00000  0.00000  0.000000  0.000000  \n",
       "7   0.000000  0.40824  0.353337  0.40824  0.40824  0.000000  0.204577  \n",
       "8   0.000000  0.00000  0.000000  0.00000  0.00000  0.000000  0.401324  \n",
       "9   0.000000  0.00000  0.000000  0.00000  0.00000  0.693151  0.401324  \n",
       "10  0.000000  0.00000  0.000000  0.00000  0.00000  0.000000  0.401324  \n",
       "11  0.000000  0.00000  0.000000  0.00000  0.00000  0.000000  0.000000  \n",
       "12  0.000000  0.00000  0.000000  0.00000  0.00000  0.000000  0.000000  \n",
       "13  0.800916  0.00000  0.000000  0.00000  0.00000  0.000000  0.000000  \n",
       "\n",
       "[14 rows x 27 columns]"
      ]
     },
     "execution_count": 51,
     "metadata": {},
     "output_type": "execute_result"
    }
   ],
   "source": [
    "# Converted test case text into integers\n",
    "pd.DataFrame(simple_train_dty.toarray(),columns=vect.get_feature_names())"
   ]
  },
  {
   "cell_type": "code",
   "execution_count": 52,
   "metadata": {},
   "outputs": [
    {
     "data": {
      "text/plain": [
       "'vect1 = CountVectorizer()\\nvect1.fit(X)'"
      ]
     },
     "execution_count": 52,
     "metadata": {},
     "output_type": "execute_result"
    }
   ],
   "source": [
    "'''vect1 = CountVectorizer()\n",
    "vect1.fit(X)'''"
   ]
  },
  {
   "cell_type": "code",
   "execution_count": 53,
   "metadata": {
    "collapsed": true
   },
   "outputs": [],
   "source": [
    "#opfeat = vect1.get_feature_names()"
   ]
  },
  {
   "cell_type": "code",
   "execution_count": 54,
   "metadata": {
    "collapsed": true
   },
   "outputs": [],
   "source": [
    "#simple_train_dtX = vect1.fit_transform(X)"
   ]
  },
  {
   "cell_type": "code",
   "execution_count": 55,
   "metadata": {
    "collapsed": true
   },
   "outputs": [],
   "source": [
    "#dataop = simple_train_dtX.toarray()"
   ]
  },
  {
   "cell_type": "code",
   "execution_count": 56,
   "metadata": {
    "collapsed": true
   },
   "outputs": [],
   "source": [
    "# Converted source code text into label integers\n",
    "#dataop"
   ]
  },
  {
   "cell_type": "code",
   "execution_count": 57,
   "metadata": {
    "collapsed": true
   },
   "outputs": [],
   "source": [
    "#rows = dataop.shape[0]\n",
    "#cols = dataop.shape[1]"
   ]
  },
  {
   "cell_type": "code",
   "execution_count": 58,
   "metadata": {
    "collapsed": true
   },
   "outputs": [],
   "source": [
    "#op = np.zeros((rows,), dtype=np.int64)"
   ]
  },
  {
   "cell_type": "code",
   "execution_count": 59,
   "metadata": {
    "collapsed": true
   },
   "outputs": [],
   "source": [
    "#for i in range(rows):\n",
    "#    s = 0\n",
    "#    for j in range(cols):\n",
    "#        s = s + dataop[i,j] * (j + 1)\n",
    "#    op[i] =op[i] + s\n",
    "#print(op)"
   ]
  },
  {
   "cell_type": "code",
   "execution_count": 60,
   "metadata": {
    "collapsed": true
   },
   "outputs": [],
   "source": [
    "# Building KNN model to learn the training set\n",
    "knn = KNeighborsClassifier(n_neighbors=1)\n",
    "clf = knn.fit(simple_train_dty, op)"
   ]
  },
  {
   "cell_type": "code",
   "execution_count": 61,
   "metadata": {
    "collapsed": true
   },
   "outputs": [],
   "source": [
    "# Tester Writes a new Test Scenario for a project\n",
    "simple_test = [\"search of contract\"]\n",
    "#vect = CountVectorizer()"
   ]
  },
  {
   "cell_type": "code",
   "execution_count": 62,
   "metadata": {
    "collapsed": true
   },
   "outputs": [],
   "source": [
    "text_clf = Pipeline([('vect', CountVectorizer()),\n",
    "                      ('tfidf', TfidfTransformer()),\n",
    "                      ('clf', KNeighborsClassifier(n_neighbors=1)),\n",
    " ])"
   ]
  },
  {
   "cell_type": "code",
   "execution_count": 63,
   "metadata": {
    "collapsed": true
   },
   "outputs": [],
   "source": [
    "# converts new test case into integer\n",
    "#simple_test_dtm = vect.transform(simple_test)\n",
    "#simple_test_dtm.toarray()"
   ]
  },
  {
   "cell_type": "code",
   "execution_count": 64,
   "metadata": {
    "collapsed": true
   },
   "outputs": [],
   "source": [
    "#pd.DataFrame(simple_test_dtm.toarray(),columns=vect.get_feature_names())"
   ]
  },
  {
   "cell_type": "code",
   "execution_count": 65,
   "metadata": {},
   "outputs": [
    {
     "data": {
      "text/plain": [
       "Pipeline(steps=[('vect', CountVectorizer(analyzer='word', binary=False, decode_error='strict',\n",
       "        dtype=<class 'numpy.int64'>, encoding='utf-8', input='content',\n",
       "        lowercase=True, max_df=1.0, max_features=None, min_df=1,\n",
       "        ngram_range=(1, 1), preprocessor=None, stop_words=None,\n",
       "        strip...owski',\n",
       "           metric_params=None, n_jobs=1, n_neighbors=1, p=2,\n",
       "           weights='uniform'))])"
      ]
     },
     "execution_count": 65,
     "metadata": {},
     "output_type": "execute_result"
    }
   ],
   "source": [
    "# predicts the source code\n",
    "text_clf.fit(X ,op)"
   ]
  },
  {
   "cell_type": "code",
   "execution_count": 66,
   "metadata": {
    "collapsed": true
   },
   "outputs": [],
   "source": [
    "pred = text_clf.predict(simple_test)[0]"
   ]
  },
  {
   "cell_type": "code",
   "execution_count": 67,
   "metadata": {
    "collapsed": true
   },
   "outputs": [],
   "source": [
    "def uniq(input):\n",
    "  output = []\n",
    "  for x in input:\n",
    "    if x not in output:\n",
    "      output.append(x)\n",
    "  return output"
   ]
  },
  {
   "cell_type": "code",
   "execution_count": 68,
   "metadata": {
    "collapsed": true
   },
   "outputs": [],
   "source": [
    "opremdup = uniq(op.tolist())"
   ]
  },
  {
   "cell_type": "code",
   "execution_count": 69,
   "metadata": {},
   "outputs": [
    {
     "name": "stdout",
     "output_type": "stream",
     "text": [
      "contract\n",
      "search of contract\n"
     ]
    }
   ],
   "source": [
    "print(opfeat[pred - 1])\n",
    "print(''.join(simple_test))"
   ]
  },
  {
   "cell_type": "code",
   "execution_count": 70,
   "metadata": {
    "collapsed": true
   },
   "outputs": [],
   "source": [
    "# Maps the learned test case to new source code and adds to training set\n",
    "try:\n",
    "    f = open(path, 'a')\n",
    "    try:\n",
    "       wr = str(opfeat[pred - 1]) + ';' + ''.join(simple_test)\n",
    "       f.write('\\n' + wr) # Write a string to a file\n",
    "     #   f.writelines(lines) # Write a sequence of strings to a file\n",
    "    finally:\n",
    "        f.close()\n",
    "except IOError:\n",
    "    pass\n"
   ]
  },
  {
   "cell_type": "code",
   "execution_count": 71,
   "metadata": {
    "collapsed": true
   },
   "outputs": [],
   "source": [
    "# source code chnaged for product\n",
    "code_changed = ['Admin', 'Contract']"
   ]
  },
  {
   "cell_type": "code",
   "execution_count": 72,
   "metadata": {
    "collapsed": true
   },
   "outputs": [],
   "source": [
    "try:\n",
    "    with open(path) as f:\n",
    "        content = f.read().splitlines()\n",
    "except IOError:\n",
    "    pass"
   ]
  },
  {
   "cell_type": "code",
   "execution_count": 73,
   "metadata": {},
   "outputs": [
    {
     "name": "stdout",
     "output_type": "stream",
     "text": [
      "Execute the testcase: run core admin\n",
      "Execute the testcase: verify creation of contract\n",
      "Execute the testcase: verify updating of contract\n",
      "Execute the testcase: verify deletion of contract\n",
      "Execute the testcase: display and edit of contract\n",
      "Execute the testcase: activate contract\n",
      "Execute the testcase: search of contract\n",
      "Execute the testcase: search of contract\n"
     ]
    }
   ],
   "source": [
    "# Implements Devops to find the test case to be executed\n",
    "for codeelem in code_changed:\n",
    "    #print ('codeelem' + codeelem)\n",
    "    for element in content:\n",
    "        element = element.lower()\n",
    "        #print ('element' + element)\n",
    "        parts = element.split(';')\n",
    "        if codeelem.lower() in parts:\n",
    "            print('Execute the testcase: ' + parts[1])\n",
    "    "
   ]
  },
  {
   "cell_type": "code",
   "execution_count": null,
   "metadata": {
    "collapsed": true
   },
   "outputs": [],
   "source": []
  },
  {
   "cell_type": "code",
   "execution_count": null,
   "metadata": {
    "collapsed": true
   },
   "outputs": [],
   "source": []
  }
 ],
 "metadata": {
  "kernelspec": {
   "display_name": "Python 3",
   "language": "python",
   "name": "python3"
  },
  "language_info": {
   "codemirror_mode": {
    "name": "ipython",
    "version": 3
   },
   "file_extension": ".py",
   "mimetype": "text/x-python",
   "name": "python",
   "nbconvert_exporter": "python",
   "pygments_lexer": "ipython3",
   "version": "3.6.1"
  }
 },
 "nbformat": 4,
 "nbformat_minor": 2
}
