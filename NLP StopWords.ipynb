{
 "cells": [
  {
   "cell_type": "code",
   "execution_count": 2,
   "metadata": {},
   "outputs": [],
   "source": [
    "from nltk.tokenize import sent_tokenize, word_tokenize"
   ]
  },
  {
   "cell_type": "code",
   "execution_count": 4,
   "metadata": {},
   "outputs": [],
   "source": [
    "from nltk.corpus import stopwords"
   ]
  },
  {
   "cell_type": "code",
   "execution_count": 5,
   "metadata": {
    "collapsed": true
   },
   "outputs": [],
   "source": [
    "ex_text = 'machine learning is a beutiful science. Thus a new technology which will be the future'"
   ]
  },
  {
   "cell_type": "code",
   "execution_count": 6,
   "metadata": {},
   "outputs": [
    {
     "name": "stdout",
     "output_type": "stream",
     "text": [
      "['machine', 'learning', 'is', 'a', 'beutiful', 'science', '.', 'Thus', 'a', 'new', 'technology', 'which', 'will', 'be', 'the', 'future']\n"
     ]
    }
   ],
   "source": [
    "words = word_tokenize(ex_text)\n",
    "print(words)"
   ]
  },
  {
   "cell_type": "code",
   "execution_count": 7,
   "metadata": {
    "collapsed": true
   },
   "outputs": [],
   "source": [
    "stop_words= set(stopwords.words(\"english\"))"
   ]
  },
  {
   "cell_type": "code",
   "execution_count": 8,
   "metadata": {},
   "outputs": [
    {
     "name": "stdout",
     "output_type": "stream",
     "text": [
      "{'weren', 'will', 'each', 'shouldn', 'has', 'mustn', 'who', 'is', 'so', 'if', 'not', 'about', 'doesn', 'where', 'ourselves', 'with', 'above', 'myself', 'their', 'does', 'both', 'own', 'needn', 'whom', 'd', 'than', 'he', 'wouldn', 'hadn', 'doing', 'up', 'haven', 'over', 'few', 'having', 'of', 'an', 'they', 'should', 'between', 'other', 'below', 'that', 'yourselves', 'didn', 'was', 'as', 'only', 's', 'which', 'out', 'here', 'herself', 'shan', 'did', 'more', 'same', 'll', 'at', 'and', 'mightn', 'in', 't', 'while', 'there', 'ours', 'how', 'but', 'hasn', 'she', 'her', 'most', 'its', 'itself', 'aren', 'wasn', 'those', 'won', 'couldn', 'during', 'we', 'the', 'from', 'have', 'do', 'our', 'don', 'a', 'you', 'then', 'before', 'his', 'too', 'himself', 'am', 'theirs', 'what', 'these', 'been', 'to', 'm', 'them', 'o', 'all', 'further', 'now', 'ma', 'into', 'i', 'being', 'themselves', 'were', 'why', 'him', 'through', 'some', 'no', 'are', 'yours', 'nor', 'very', 'had', 'y', 'under', 'just', 'once', 'on', 'because', 'off', 'isn', 'again', 'it', 've', 'against', 'after', 'when', 'down', 'ain', 'by', 'can', 'me', 'any', 'or', 'such', 'for', 'this', 'yourself', 'until', 're', 'your', 'my', 'hers', 'be'}\n"
     ]
    }
   ],
   "source": [
    "print(stop_words)"
   ]
  },
  {
   "cell_type": "code",
   "execution_count": 9,
   "metadata": {},
   "outputs": [
    {
     "name": "stdout",
     "output_type": "stream",
     "text": [
      "['machine', 'learning', 'beutiful', 'science', '.', 'Thus', 'new', 'technology', 'future']\n"
     ]
    }
   ],
   "source": [
    "nwords = []\n",
    "for w in words:\n",
    "    if w not in stop_words:\n",
    "        nwords.append(w)\n",
    "print(nwords)"
   ]
  },
  {
   "cell_type": "code",
   "execution_count": null,
   "metadata": {
    "collapsed": true
   },
   "outputs": [],
   "source": []
  }
 ],
 "metadata": {
  "kernelspec": {
   "display_name": "Python 3",
   "language": "python",
   "name": "python3"
  }
 },
 "nbformat": 4,
 "nbformat_minor": 2
}
