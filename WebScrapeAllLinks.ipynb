{
 "cells": [
  {
   "cell_type": "code",
   "execution_count": 25,
   "metadata": {
    "collapsed": true
   },
   "outputs": [],
   "source": [
    "import requests\n",
    "from bs4 import BeautifulSoup"
   ]
  },
  {
   "cell_type": "code",
   "execution_count": 74,
   "metadata": {
    "collapsed": true
   },
   "outputs": [],
   "source": [
    "class AppCrawler:\n",
    "    \n",
    "    def __init__(self,starting_url,depth=0):\n",
    "        self.starting_url = starting_url\n",
    "        self.depth = depth\n",
    "        self.current_depth = 0 \n",
    "        self.depth_links = []\n",
    "        self.apps = []\n",
    "        \n",
    "    \n",
    "    def crawl(self):\n",
    "        \n",
    "        app = self.get_app_from_link(self.starting_url)\n",
    "        self.apps.append(app.title)\n",
    "        self.depth_links.append(app.href)\n",
    "        \n",
    "        while self.current_depth < self.depth:\n",
    "            current_links = []\n",
    "            for link in self.depth_links[self.current_depth]:\n",
    "                current_app = self.get_app_from_link(link)\n",
    "                current_links.extend(current_app.href)\n",
    "                self.apps.append(current_app)\n",
    "            \n",
    "            self.current_depth += 1\n",
    "            \n",
    "            self.depth_links.append(current_links)\n",
    "        \n",
    "    \n",
    "    def get_app_from_link (self,link):\n",
    "        print('link' , link)\n",
    "        start_page = requests.get(link)\n",
    "        plain_text =start_page.text\n",
    "        soup = BeautifulSoup(plain_text,'lxml')\n",
    "        links = soup.findAll('a')\n",
    "        title = soup.title.string\n",
    "        \n",
    "        print('title', title)\n",
    "        href = []\n",
    "        \n",
    "        for l in links:\n",
    "            href.append(l.get('href'))\n",
    "        \n",
    "  #      print('href ' , href)\n",
    "        \n",
    "        app = App(title,href)\n",
    "        \n",
    "        print('app',app)\n",
    "        \n",
    "        return(app)\n",
    "        \n",
    "    def show_app_link (self):\n",
    "        \n",
    "        for idx in range(len(self.apps)):\n",
    "            print(self.apps[idx])\n",
    "            for link in self.depth_links[idx]:\n",
    "                print(link)\n",
    "                \n",
    "        "
   ]
  },
  {
   "cell_type": "code",
   "execution_count": 75,
   "metadata": {},
   "outputs": [
    {
     "data": {
      "text/plain": [
       "'\\n    def __str__(self):\\n        return()\\n'"
      ]
     },
     "execution_count": 75,
     "metadata": {},
     "output_type": "execute_result"
    }
   ],
   "source": [
    "class App:\n",
    "    def __init__(self,title,href):\n",
    "        self.title = title \n",
    "        self.href = href\n",
    "        \n",
    "'''\n",
    "    def __str__(self):\n",
    "        return()\n",
    "'''"
   ]
  },
  {
   "cell_type": "code",
   "execution_count": 76,
   "metadata": {
    "collapsed": true
   },
   "outputs": [],
   "source": [
    "crawler = AppCrawler('https://pythonprogramming.net/django-web-development-with-python-intro/')"
   ]
  },
  {
   "cell_type": "code",
   "execution_count": 77,
   "metadata": {},
   "outputs": [
    {
     "name": "stdout",
     "output_type": "stream",
     "text": [
      "link https://pythonprogramming.net/django-web-development-with-python-intro/\n",
      "title Python Programming Tutorials\n",
      "app <__main__.App object at 0x0000018E9F558588>\n"
     ]
    }
   ],
   "source": [
    "crawler.crawl()"
   ]
  },
  {
   "cell_type": "code",
   "execution_count": 78,
   "metadata": {},
   "outputs": [
    {
     "name": "stdout",
     "output_type": "stream",
     "text": [
      "Python Programming Tutorials\n",
      "/\n",
      "#\n",
      "/\n",
      "/+=1/\n",
      "/support/\n",
      "https://goo.gl/7zgAVQ\n",
      "/login/\n",
      "/register/\n",
      "/\n",
      "/+=1/\n",
      "/support/\n",
      "https://goo.gl/7zgAVQ\n",
      "/login/\n",
      "/register/\n",
      "https://www.djangoproject.com/\n",
      "https://www.python.org/\n",
      "https://www.djangoproject.com/download/\n",
      "https://www.djangoproject.com/download/\n",
      "/static/downloads/django/part1.zip\n",
      "/first-site-django-python-tutorial/?completed=/django-web-development-with-python-intro/\n",
      "/support-donate/?a=1&t=/django-web-development-with-python-intro/\n",
      "/first-site-django-python-tutorial/\n",
      "/jinja-templates-django-python-tutorial/\n",
      "/design-bootstrap-django-python-tutorial/\n",
      "/jinja-variables-django-python-tutorial/\n",
      "/blog-django-python-tutorial/\n",
      "/views-templates-django-python-tutorial/\n",
      "/database-migration-django-python-tutorial/\n",
      "/admin-django-python-tutorial/\n",
      "/finished-blog-django-python-tutorial/\n",
      "/django-web-server-publish-tutorial/\n",
      "/django-web-server-https-lets-encrypt-ssl/\n",
      "#\n",
      "#\n",
      "#\n",
      "/support-donate/\n",
      "/consulting/\n",
      "https://www.facebook.com/pythonprogramming.net/\n",
      "https://twitter.com/sentdex\n",
      "https://plus.google.com/+sentdex\n",
      "/about/tos/\n",
      "/about/privacy-policy/\n",
      "https://xkcd.com/353/\n"
     ]
    }
   ],
   "source": [
    "crawler.show_app_link()"
   ]
  },
  {
   "cell_type": "code",
   "execution_count": null,
   "metadata": {
    "collapsed": true
   },
   "outputs": [],
   "source": []
  },
  {
   "cell_type": "code",
   "execution_count": null,
   "metadata": {
    "collapsed": true
   },
   "outputs": [],
   "source": []
  }
 ],
 "metadata": {
  "kernelspec": {
   "display_name": "Python 3",
   "language": "python",
   "name": "python3"
  },
  "language_info": {
   "codemirror_mode": {
    "name": "ipython",
    "version": 3
   },
   "file_extension": ".py",
   "mimetype": "text/x-python",
   "name": "python",
   "nbconvert_exporter": "python",
   "pygments_lexer": "ipython3",
   "version": "3.6.1"
  }
 },
 "nbformat": 4,
 "nbformat_minor": 2
}
