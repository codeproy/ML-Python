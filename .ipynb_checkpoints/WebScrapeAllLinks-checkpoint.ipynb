{
 "cells": [
  {
   "cell_type": "code",
   "execution_count": 2,
   "metadata": {
    "collapsed": true
   },
   "outputs": [],
   "source": [
    "import urllib.request as url\n",
    "from bs4 import BeautifulSoup"
   ]
  },
  {
   "cell_type": "code",
   "execution_count": 3,
   "metadata": {
    "collapsed": true
   },
   "outputs": [],
   "source": [
    "class AppCrawler:\n",
    "    \n",
    "    def __init__(self,starting_url,depth):\n",
    "        self.starting_url = starting_url\n",
    "        self.depth = depth\n",
    "        self.current_depth = 0 \n",
    "        self.depth_links = []\n",
    "        self.apps = []\n",
    "        \n",
    "    \n",
    "    def crawl(self):\n",
    "        \n",
    "        app = self.get_app_from_link(self.starting_url)\n",
    "        self.apps.append(app)\n",
    "        self.depth_links.append(app.href)\n",
    "        \n",
    "        while self.current_depth <= self.depth:\n",
    "            current_links = []\n",
    "            for link in self.depth_links[self.current_depth]:\n",
    "                current_app = self.get_app_from_link(link)\n",
    "                current_links.extend(current_app.href)\n",
    "                self.apps.append(current_app)\n",
    "            self.current_depth += 1\n",
    "            \n",
    "            self.depth_links.append(current_links)\n",
    "        \n",
    "    \n",
    "    def get_app_from_link (self,link):\n",
    "        start_page = requests.get(link)\n",
    "        plain_text =source_code.text\n",
    "        soup = BeautifulSoup(plain_text,'lxml')\n",
    "        links = soup.findAll('a')\n",
    "        title = soup.title\n",
    "        href = []\n",
    "        \n",
    "        for link in links:\n",
    "            href.append(link.get('href'))\n",
    "            \n",
    "        app = App(title,href)\n",
    "        \n",
    "        return(app)\n",
    "        \n",
    "        "
   ]
  },
  {
   "cell_type": "code",
   "execution_count": null,
   "metadata": {
    "collapsed": true
   },
   "outputs": [],
   "source": [
    "class App:\n",
    "    def __init__(self,title,href):\n",
    "        self.title = title \n",
    "        self.href = href\n",
    "        \n",
    "    def __str__(self):\n",
    "        rteurn(\"title :\" + self.title.encode('UTF-8'))"
   ]
  }
 ],
 "metadata": {
  "kernelspec": {
   "display_name": "Python 3",
   "language": "python",
   "name": "python3"
  },
  "language_info": {
   "codemirror_mode": {
    "name": "ipython",
    "version": 3
   },
   "file_extension": ".py",
   "mimetype": "text/x-python",
   "name": "python",
   "nbconvert_exporter": "python",
   "pygments_lexer": "ipython3",
   "version": "3.6.1"
  }
 },
 "nbformat": 4,
 "nbformat_minor": 2
}
